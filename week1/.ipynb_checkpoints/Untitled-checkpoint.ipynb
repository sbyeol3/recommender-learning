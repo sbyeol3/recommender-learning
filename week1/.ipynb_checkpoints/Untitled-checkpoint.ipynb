{
 "cells": [
  {
   "cell_type": "markdown",
   "metadata": {},
   "source": [
    "## 1. CSV 데이터 가져오기\n",
    "\n",
    "* movie_df : 영화에 대한 정보\n",
    "* genre_df : 영화 별 장르에 대한 정보\n",
    "* rating_df : 영화에 대한 별점 정보"
   ]
  },
  {
   "cell_type": "code",
   "execution_count": null,
   "metadata": {},
   "outputs": [],
   "source": [
    "# 필요한 라이브러리 가져오기\n",
    "%matplotlib inline\n",
    "import os\n",
    "import numpy as np\n",
    "import pandas as pd\n",
    "import matplotlib.pyplot as plt\n",
    "from datetime import datetime\n",
    "from tensorflow.keras.utils import get_file\n",
    "\n",
    "# 영화 포스터를 가져와 주피터에서 볼 수 있도록 만들어주는 메소드\n",
    "def display_posters(movieId_list):\n",
    "    import requests\n",
    "    from io import BytesIO\n",
    "    from PIL import Image\n",
    "    \n",
    "    def get_poster(movieId):\n",
    "        url = \"https://pai-datasets.s3.ap-northeast-2.amazonaws.com/recommender_systems/movielens/img/POSTER_20M_FULL/{}.jpg\".format(movieId)\n",
    "        try:\n",
    "            response = requests.get(url)\n",
    "            b = BytesIO(response.content)\n",
    "            img = np.asarray(Image.open(b))\n",
    "        except:\n",
    "            img = np.zeros((200,100,3))\n",
    "        return img\n",
    "    \n",
    "    images = []\n",
    "    for i in movieId_list:\n",
    "        img = get_poster(i)\n",
    "        images.append(img)\n",
    "\n",
    "    columns = 5\n",
    "    rows = (len(movieId_list) - 1) // columns + 1\n",
    "    fig, axes = plt.subplots(rows, columns)\n",
    "    axes = axes.flatten()\n",
    "    fig.set_size_inches((20,rows * 5))\n",
    "        \n",
    "    for ind, img in enumerate(images):\n",
    "        c_id = ind % columns\n",
    "        r_id = ind // columns\n",
    "        ax = axes[r_id*columns + c_id]\n",
    "        ax.set_title(movieId_list[ind])\n",
    "        ax.imshow(img)\n",
    "\n",
    "    plt.tight_layout()"
   ]
  },
  {
   "cell_type": "code",
   "execution_count": null,
   "metadata": {},
   "outputs": [],
   "source": [
    "ROOT_URL = \"https://pai-datasets.s3.ap-northeast-2.amazonaws.com/recommender_systems/movielens/datasets\"\n",
    "\n",
    "movie_path = get_file(\"movies.csv\", os.path.join(ROOT_URL, \"movies.csv\"))\n",
    "movie_df = pd.read_csv(movie_path)\n",
    "\n",
    "genre_path = get_file(\"genres.csv\", os.path.join(ROOT_URL, \"genres.csv\"))\n",
    "genre_df = pd.read_csv(genre_path)\n",
    "\n",
    "rating_path = get_file(\"ratings.csv\", os.path.join(ROOT_URL, \"ratings.csv\"))\n",
    "rating_df = pd.read_csv(rating_path)"
   ]
  }
 ],
 "metadata": {
  "kernelspec": {
   "display_name": "Python 3",
   "language": "python",
   "name": "python3"
  },
  "language_info": {
   "codemirror_mode": {
    "name": "ipython",
    "version": 3
   },
   "file_extension": ".py",
   "mimetype": "text/x-python",
   "name": "python",
   "nbconvert_exporter": "python",
   "pygments_lexer": "ipython3",
   "version": "3.7.6"
  }
 },
 "nbformat": 4,
 "nbformat_minor": 4
}
